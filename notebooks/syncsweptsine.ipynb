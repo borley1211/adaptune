{
 "cells": [
  {
   "cell_type": "markdown",
   "metadata": {},
   "source": [
    "# Import Section"
   ]
  },
  {
   "cell_type": "code",
   "execution_count": 27,
   "metadata": {},
   "outputs": [],
   "source": [
    "import numpy as np\n",
    "from syncsweptsine import SyncSweep, LinearModel, HigherHarmonicImpulseResponse, FrfFilterKernel"
   ]
  },
  {
   "cell_type": "markdown",
   "metadata": {},
   "source": [
    "## Import Virtual Sound Field"
   ]
  },
  {
   "cell_type": "code",
   "execution_count": 2,
   "metadata": {},
   "outputs": [],
   "source": [
    "# SOUND_FIELD = lambda x: x.copy()\n",
    "\n",
    "from pysndfx import AudioEffectsChain\n",
    "SOUND_FIELD = AudioEffectsChain().reverb()"
   ]
  },
  {
   "cell_type": "markdown",
   "metadata": {},
   "source": [
    "## import Warning Controller"
   ]
  },
  {
   "cell_type": "code",
   "execution_count": 3,
   "metadata": {},
   "outputs": [],
   "source": [
    "from warnings import simplefilter\n",
    "simplefilter('ignore')"
   ]
  },
  {
   "cell_type": "markdown",
   "metadata": {},
   "source": [
    "# Define Global Variables"
   ]
  },
  {
   "cell_type": "markdown",
   "metadata": {},
   "source": [
    "## Sample rate [Hz]"
   ]
  },
  {
   "cell_type": "code",
   "execution_count": 4,
   "metadata": {},
   "outputs": [],
   "source": [
    "RATE = 48000"
   ]
  },
  {
   "cell_type": "markdown",
   "metadata": {},
   "source": [
    "## Total Time Length of Source [sec]"
   ]
  },
  {
   "cell_type": "code",
   "execution_count": 5,
   "metadata": {},
   "outputs": [],
   "source": [
    "LEN_T = 180"
   ]
  },
  {
   "cell_type": "markdown",
   "metadata": {},
   "source": [
    "## Freq of Source [Hz]"
   ]
  },
  {
   "cell_type": "code",
   "execution_count": 6,
   "metadata": {},
   "outputs": [],
   "source": [
    "FREQ = 440"
   ]
  },
  {
   "cell_type": "markdown",
   "metadata": {},
   "source": [
    "## Time-Axis"
   ]
  },
  {
   "cell_type": "code",
   "execution_count": 7,
   "metadata": {},
   "outputs": [],
   "source": [
    "t = np.linspace(0, LEN_T, LEN_T*RATE, dtype=np.float64)"
   ]
  },
  {
   "cell_type": "markdown",
   "metadata": {},
   "source": [
    "## About FIR-Filter"
   ]
  },
  {
   "cell_type": "markdown",
   "metadata": {},
   "source": [
    "### Filter Length"
   ]
  },
  {
   "cell_type": "code",
   "execution_count": 8,
   "metadata": {},
   "outputs": [],
   "source": [
    "LEN_FIR = 2048"
   ]
  },
  {
   "cell_type": "markdown",
   "metadata": {},
   "source": [
    "## Make Source-Data"
   ]
  },
  {
   "cell_type": "code",
   "execution_count": 9,
   "metadata": {},
   "outputs": [],
   "source": [
    "A = np.finfo(np.float64).max / 2.\n",
    "rawdata = A * np.sin(2. * np.pi * FREQ * t)"
   ]
  },
  {
   "cell_type": "markdown",
   "metadata": {},
   "source": [
    "# Main"
   ]
  },
  {
   "cell_type": "code",
   "execution_count": 10,
   "metadata": {},
   "outputs": [
    {
     "name": "stdout",
     "output_type": "stream",
     "text": [
      "SyncSweep(\n",
      "    startfreq=10,\n",
      "    stopfreq=24000,\n",
      "    duration=10.118191221236849,\n",
      "    samplerate=48000)\n",
      " (485674,)\n"
     ]
    }
   ],
   "source": [
    "ssweep = SyncSweep(startfreq=10, stopfreq=RATE//2, durationappr=10, samplerate=RATE)\n",
    "indata = np.array(ssweep, dtype=np.float64)\n",
    "print(ssweep, indata.shape)"
   ]
  },
  {
   "cell_type": "code",
   "execution_count": 11,
   "metadata": {},
   "outputs": [
    {
     "data": {
      "text/plain": [
       "(485674,)"
      ]
     },
     "execution_count": 11,
     "metadata": {},
     "output_type": "execute_result"
    }
   ],
   "source": [
    "outdata = SOUND_FIELD(indata)\n",
    "outdata.shape"
   ]
  },
  {
   "cell_type": "code",
   "execution_count": 30,
   "metadata": {},
   "outputs": [
    {
     "ename": "AttributeError",
     "evalue": "type object 'FrfFilterKernel' has no attribute 'from_sweeps'",
     "output_type": "error",
     "traceback": [
      "\u001b[0;31m---------------------------------------------------------------------------\u001b[0m",
      "\u001b[0;31mAttributeError\u001b[0m                            Traceback (most recent call last)",
      "\u001b[0;32m<ipython-input-30-37391b11edee>\u001b[0m in \u001b[0;36m<module>\u001b[0;34m\u001b[0m\n\u001b[1;32m      1\u001b[0m \u001b[0mhhir\u001b[0m \u001b[0;34m=\u001b[0m \u001b[0mHigherHarmonicImpulseResponse\u001b[0m\u001b[0;34m.\u001b[0m\u001b[0mfrom_sweeps\u001b[0m\u001b[0;34m(\u001b[0m\u001b[0msyncsweep\u001b[0m\u001b[0;34m=\u001b[0m\u001b[0mssweep\u001b[0m\u001b[0;34m,\u001b[0m \u001b[0mmeasuredsweep\u001b[0m\u001b[0;34m=\u001b[0m\u001b[0moutdata\u001b[0m\u001b[0;34m)\u001b[0m\u001b[0;34m\u001b[0m\u001b[0;34m\u001b[0m\u001b[0m\n\u001b[0;32m----> 2\u001b[0;31m \u001b[0mFIR\u001b[0m \u001b[0;34m=\u001b[0m \u001b[0mFrfFilterKernel\u001b[0m\u001b[0;34m.\u001b[0m\u001b[0mfrom_sweeps\u001b[0m\u001b[0;34m(\u001b[0m\u001b[0msyncsweep\u001b[0m\u001b[0;34m=\u001b[0m\u001b[0mssweep\u001b[0m\u001b[0;34m,\u001b[0m \u001b[0mmeasuredsweep\u001b[0m\u001b[0;34m=\u001b[0m\u001b[0moutdata\u001b[0m\u001b[0;34m)\u001b[0m\u001b[0;34m\u001b[0m\u001b[0;34m\u001b[0m\u001b[0m\n\u001b[0m\u001b[1;32m      3\u001b[0m \u001b[0mFIR\u001b[0m\u001b[0;34m\u001b[0m\u001b[0;34m\u001b[0m\u001b[0m\n",
      "\u001b[0;31mAttributeError\u001b[0m: type object 'FrfFilterKernel' has no attribute 'from_sweeps'"
     ]
    }
   ],
   "source": [
    "hhir = HigherHarmonicImpulseResponse.from_sweeps(syncsweep=ssweep, measuredsweep=outdata)\n",
    "FIR = FrfFilterKernel.from_sweeps(syncsweep=ssweep, measuredsweep=outdata)\n",
    "FIR"
   ]
  },
  {
   "cell_type": "code",
   "execution_count": 13,
   "metadata": {},
   "outputs": [],
   "source": [
    "indata_modified = FIR.filter(rawdata)\n",
    "outdata_modified = SOUND_FIELD(indata_modified)"
   ]
  },
  {
   "cell_type": "markdown",
   "metadata": {},
   "source": [
    "# Plot"
   ]
  },
  {
   "cell_type": "code",
   "execution_count": 21,
   "metadata": {},
   "outputs": [],
   "source": [
    "from matplotlib import pylab as plt\n",
    "import seaborn as sns\n",
    "\n",
    "sns.set()\n",
    "sns.set_context('paper')\n",
    "sns.set_palette('winter', 2)"
   ]
  },
  {
   "cell_type": "code",
   "execution_count": 22,
   "metadata": {},
   "outputs": [
    {
     "data": {
      "image/png": "[encoded data removed]",
      "text/plain": [
       "<Figure size 432x288 with 1 Axes>"
      ]
     },
     "metadata": {},
     "output_type": "display_data"
    }
   ],
   "source": [
    "plt.plot(FIR.kernel.freq, 20.*np.log10(FIR.kernel.ir[-FIR.kernel.freq.size:]), label='Impulse Response')\n",
    "plt.xscale('log')\n",
    "plt.xlabel('Frequency[Hz]')\n",
    "plt.ylabel('Gain[dB]')\n",
    "plt.legend()\n",
    "plt.show()"
   ]
  },
  {
   "cell_type": "code",
   "execution_count": 23,
   "metadata": {},
   "outputs": [
    {
     "data": {
      "image/png": "[encoded data removed]",
      "text/plain": [
       "<Figure size 432x288 with 1 Axes>"
      ]
     },
     "metadata": {},
     "output_type": "display_data"
    }
   ],
   "source": [
    "from scipy.fft import rfft\n",
    "plt.plot(20.*np.log10(rfft(outdata_modified, n=RATE)), label='Output')\n",
    "plt.plot(20.*np.log10(rfft(indata, n=RATE)), label='Input')\n",
    "plt.xscale('log')\n",
    "plt.xlabel('Frequency[Hz]')\n",
    "plt.ylabel('Gain[dB]')\n",
    "plt.legend()\n",
    "plt.show()"
   ]
  },
  {
   "cell_type": "code",
   "execution_count": null,
   "metadata": {},
   "outputs": [],
   "source": []
  }
 ],
 "metadata": {
  "kernelspec": {
   "display_name": "audapter",
   "language": "python",
   "name": "audapter"
  },
  "language_info": {
   "codemirror_mode": {
    "name": "ipython",
    "version": 3
   },
   "file_extension": ".py",
   "mimetype": "text/x-python",
   "name": "python",
   "nbconvert_exporter": "python",
   "pygments_lexer": "ipython3",
   "version": "3.8.0"
  }
 },
 "nbformat": 4,
 "nbformat_minor": 4
}
