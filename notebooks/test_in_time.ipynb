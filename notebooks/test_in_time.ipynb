{
 "cells": [
  {
   "cell_type": "markdown",
   "metadata": {},
   "source": [
    "# Import Section"
   ]
  },
  {
   "cell_type": "code",
   "execution_count": 1,
   "metadata": {},
   "outputs": [
    {
     "ename": "ImportError",
     "evalue": "cannot import name 'FilterModel' from 'audapter.domain.model' (/home/borley/audapter/src/audapter/domain/model.py)",
     "output_type": "error",
     "traceback": [
      "\u001b[0;31m---------------------------------------------------------------------------\u001b[0m",
      "\u001b[0;31mImportError\u001b[0m                               Traceback (most recent call last)",
      "\u001b[0;32m<ipython-input-1-a046dd10871d>\u001b[0m in \u001b[0;36m<module>\u001b[0;34m\u001b[0m\n\u001b[0;32m----> 1\u001b[0;31m \u001b[0;32mfrom\u001b[0m \u001b[0maudapter\u001b[0m\u001b[0;34m.\u001b[0m\u001b[0mdriver\u001b[0m\u001b[0;34m.\u001b[0m\u001b[0mfilter_driver\u001b[0m \u001b[0;32mimport\u001b[0m \u001b[0mFilterDriver\u001b[0m\u001b[0;34m\u001b[0m\u001b[0;34m\u001b[0m\u001b[0m\n\u001b[0m",
      "\u001b[0;32m~/audapter/src/audapter/driver/filter_driver.py\u001b[0m in \u001b[0;36m<module>\u001b[0;34m\u001b[0m\n\u001b[1;32m      1\u001b[0m \u001b[0;32mfrom\u001b[0m \u001b[0mnptyping\u001b[0m \u001b[0;32mimport\u001b[0m \u001b[0mArray\u001b[0m\u001b[0;34m\u001b[0m\u001b[0;34m\u001b[0m\u001b[0m\n\u001b[1;32m      2\u001b[0m \u001b[0;34m\u001b[0m\u001b[0m\n\u001b[0;32m----> 3\u001b[0;31m \u001b[0;32mfrom\u001b[0m \u001b[0;34m.\u001b[0m\u001b[0;34m.\u001b[0m\u001b[0mdomain\u001b[0m\u001b[0;34m.\u001b[0m\u001b[0mmodel\u001b[0m \u001b[0;32mimport\u001b[0m \u001b[0mFilterModel\u001b[0m\u001b[0;34m\u001b[0m\u001b[0;34m\u001b[0m\u001b[0m\n\u001b[0m\u001b[1;32m      4\u001b[0m \u001b[0;32mfrom\u001b[0m \u001b[0;34m.\u001b[0m\u001b[0;34m.\u001b[0m\u001b[0mhelper\u001b[0m\u001b[0;34m.\u001b[0m\u001b[0mconfig\u001b[0m \u001b[0;32mimport\u001b[0m \u001b[0msettings\u001b[0m\u001b[0;34m\u001b[0m\u001b[0;34m\u001b[0m\u001b[0m\n\u001b[1;32m      5\u001b[0m \u001b[0;32mfrom\u001b[0m \u001b[0;34m.\u001b[0m\u001b[0;34m.\u001b[0m\u001b[0minterface\u001b[0m\u001b[0;34m.\u001b[0m\u001b[0mdriver\u001b[0m\u001b[0;34m.\u001b[0m\u001b[0mfilter_driver\u001b[0m \u001b[0;32mimport\u001b[0m \u001b[0mFilterDriverABC\u001b[0m\u001b[0;34m\u001b[0m\u001b[0;34m\u001b[0m\u001b[0m\n",
      "\u001b[0;31mImportError\u001b[0m: cannot import name 'FilterModel' from 'audapter.domain.model' (/home/borley/audapter/src/audapter/domain/model.py)"
     ]
    }
   ],
   "source": [
    "from audapter.driver.filter_driver import FilterDriver"
   ]
  },
  {
   "cell_type": "code",
   "execution_count": null,
   "metadata": {},
   "outputs": [],
   "source": [
    "import numpy as np\n",
    "from scipy.fft import rfft, irfft, rfftfreq, fft, ifft, fftfreq\n",
    "from nptyping import Array"
   ]
  },
  {
   "cell_type": "code",
   "execution_count": null,
   "metadata": {},
   "outputs": [],
   "source": [
    "from matplotlib import pylab as plt\n",
    "import seaborn as sns\n",
    "\n",
    "sns.set()\n",
    "sns.set_context('paper')\n",
    "sns.set_palette('Set2', 2)"
   ]
  },
  {
   "cell_type": "markdown",
   "metadata": {},
   "source": [
    "## import Virtual Error Source"
   ]
  },
  {
   "cell_type": "code",
   "execution_count": null,
   "metadata": {},
   "outputs": [],
   "source": [
    "from pysndfx import AudioEffectsChain\n",
    "\n",
    "SOUND_FIELD = lambda x: 2. * x.copy()\n",
    "# AEC = AudioEffectsChain()\n",
    "# SOUND_FIELD = AEC.overdrive()"
   ]
  },
  {
   "cell_type": "markdown",
   "metadata": {},
   "source": [
    "## import Warning Controller"
   ]
  },
  {
   "cell_type": "code",
   "execution_count": null,
   "metadata": {},
   "outputs": [],
   "source": [
    "from warnings import simplefilter\n",
    "simplefilter('ignore')"
   ]
  },
  {
   "cell_type": "markdown",
   "metadata": {},
   "source": [
    "# Define Global Variables"
   ]
  },
  {
   "cell_type": "code",
   "execution_count": null,
   "metadata": {},
   "outputs": [],
   "source": [
    "# Period\n",
    "T_msec = 100\n",
    "\n",
    "# Sample rate\n",
    "fs = 44100\n",
    "nyquist = fs//2\n",
    "\n",
    "# Data size\n",
    "N = fs * T_msec // 1000\n",
    "\n",
    "# Filter Length\n",
    "w_len = 10\n",
    "\n",
    "# Maximum Amplifier\n",
    "A_max = 256\n",
    "\n",
    "# Amplifier\n",
    "A = .8 * A_max\n",
    "\n",
    "# Frequency of sound\n",
    "w_sound = 440.\n",
    "\n",
    "# Time\n",
    "END_OF_TIME = 20\n",
    "t = np.linspace(0, END_OF_TIME, fs*END_OF_TIME, dtype=np.float64)"
   ]
  },
  {
   "cell_type": "markdown",
   "metadata": {},
   "source": [
    "## Make Arrays for Caching"
   ]
  },
  {
   "cell_type": "code",
   "execution_count": null,
   "metadata": {},
   "outputs": [],
   "source": [
    "x_cache = A * np.sin(w_sound * (2 * np.pi * t))\n",
    "\n",
    "d_cache = x_cache[:]\n",
    "\n",
    "y_cache = np.zeros_like(t)\n",
    "\n",
    "f_cache = np.zeros_like(y_cache)\n",
    "\n",
    "w_cache = np.zeros((END_OF_TIME*1000//T_msec, w_len), dtype=np.float64)"
   ]
  },
  {
   "cell_type": "markdown",
   "metadata": {},
   "source": [
    "# Main Section"
   ]
  },
  {
   "cell_type": "markdown",
   "metadata": {},
   "source": [
    "## in First Step"
   ]
  },
  {
   "cell_type": "code",
   "execution_count": null,
   "metadata": {},
   "outputs": [],
   "source": [
    "## START_OF_THREAD ##\n",
    "x_now = x_cache[: N]\n",
    "# Output(FOR sound-field, FOR NOW, pass thru)\n",
    "y_now = x_now.copy()\n",
    "f_now = SOUND_FIELD(y_now[:])\n",
    "# Caching\n",
    "y_cache[: N] = y_now[:]\n",
    "f_cache[: N] = f_now[:]"
   ]
  },
  {
   "cell_type": "code",
   "execution_count": null,
   "metadata": {},
   "outputs": [],
   "source": [
    "# Filter\n",
    "driver = FilterDriver(shape=w_len)\n",
    "\n",
    "w_cache[0] = driver.get_filter_weights()[:]\n",
    "\n",
    "for i in range(1, END_OF_TIME * 1000//T_msec):\n",
    "    \n",
    "    ## START_OF_THREAD ##\n",
    "    \n",
    "    # Desired signal IN PREV\n",
    "    d = d_cache[(i-1)*N  : i*N - w_len]\n",
    "    \n",
    "    # Make input-array from 'f'\n",
    "    f_indata = np.array([f_cache[(i-1)*N+n : (i-1)*N+n + w_len] for n in range(N - w_len)])\n",
    "    \n",
    "    # Filter weight matrix(in time)\n",
    "    w_new = driver.tune(desired=d, data_in=f_indata)\n",
    "    \n",
    "    # Caching\n",
    "    w_cache[i] = w_new[:]\n",
    "    \n",
    "    \n",
    "    ## START_OF_THREAD ##\n",
    "    \n",
    "    # Make input-array from 'x'\n",
    "    x_indata = np.array([x_cache[i*N+n : i*N+n + w_len] for n in range(N - w_len)])\n",
    "    \n",
    "    # Get filter IN PREV\n",
    "    w_old = w_cache[(i-1)].reshape(1, -1)\n",
    "    \n",
    "    # Output(FOR sound-field, FOR NOW)\n",
    "    y_now = np.dot(w_old, x_indata.T[::-1])\n",
    "    f_now = SOUND_FIELD(y_now[:]).reshape(1, -1)\n",
    "    # Caching\n",
    "    y_cache[i*N + w_len : (i+1)*N] = y_now[:]\n",
    "    f_cache[i*N + w_len : (i+1)*N] = f_now[:]"
   ]
  },
  {
   "cell_type": "markdown",
   "metadata": {},
   "source": [
    "# Plot Result"
   ]
  },
  {
   "cell_type": "code",
   "execution_count": null,
   "metadata": {},
   "outputs": [],
   "source": [
    "tail = t.size//1000"
   ]
  },
  {
   "cell_type": "code",
   "execution_count": null,
   "metadata": {},
   "outputs": [],
   "source": [
    "plt.plot(t[-tail:], x_cache[-tail:], label=\"x: Input\")\n",
    "plt.xlabel(\"Time[sec]\")\n",
    "plt.ylabel(\"Amplitude\")\n",
    "plt.ylim([-2.*A, 2.*A])\n",
    "plt.legend()\n",
    "plt.show()"
   ]
  },
  {
   "cell_type": "code",
   "execution_count": null,
   "metadata": {},
   "outputs": [],
   "source": [
    "plt.plot(t[-tail:], d_cache[-tail:], label=\"d: Desired\")\n",
    "plt.xlabel(\"Time[sec]\")\n",
    "plt.ylabel(\"Amplitude\")\n",
    "plt.ylim([-2.*A, 2.*A])\n",
    "plt.legend()\n",
    "plt.show()"
   ]
  },
  {
   "cell_type": "code",
   "execution_count": null,
   "metadata": {},
   "outputs": [],
   "source": [
    "plt.plot(t[-tail:], y_cache[-tail:], label=\"y: Output for sound-field\")\n",
    "plt.xlabel(\"Time[sec]\")\n",
    "plt.ylabel(\"Amplitude\")\n",
    "plt.ylim([-2.*A, 2.*A])\n",
    "plt.legend()\n",
    "plt.show()"
   ]
  },
  {
   "cell_type": "code",
   "execution_count": null,
   "metadata": {},
   "outputs": [],
   "source": [
    "plt.plot(t[-tail:], y_cache[-tail:], label=\"y: Output for sound-field\")\n",
    "plt.plot(t[-tail:], f_cache[-tail:], label=\"f: Output(rec by sound-field)\")\n",
    "plt.xlabel(\"Time[sec]\")\n",
    "plt.ylabel(\"Amplitude\")\n",
    "plt.ylim([-2.*A, 2.*A])\n",
    "plt.legend()\n",
    "plt.show()"
   ]
  },
  {
   "cell_type": "code",
   "execution_count": null,
   "metadata": {},
   "outputs": [],
   "source": [
    "plt.plot(20*np.log10(rfft(f_cache[-tail:])), label=\"F: Output for sound-field(in freq.)\")\n",
    "plt.plot(20*np.log10(rfft(x_cache[-tail:])), label=\"X: Input\")\n",
    "plt.xlabel(\"Frequency[Hz]\")\n",
    "plt.ylabel(\"Amplitude\")\n",
    "plt.xscale('log')\n",
    "plt.legend()\n",
    "plt.grid()\n",
    "plt.show()"
   ]
  },
  {
   "cell_type": "code",
   "execution_count": null,
   "metadata": {},
   "outputs": [],
   "source": []
  }
 ],
 "metadata": {
  "kernelspec": {
   "display_name": "audapter",
   "language": "python",
   "name": "audapter"
  },
  "language_info": {
   "codemirror_mode": {
    "name": "ipython",
    "version": 3
   },
   "file_extension": ".py",
   "mimetype": "text/x-python",
   "name": "python",
   "nbconvert_exporter": "python",
   "pygments_lexer": "ipython3",
   "version": "3.8.0"
  }
 },
 "nbformat": 4,
 "nbformat_minor": 4
}
