{
 "cells": [
  {
   "cell_type": "markdown",
   "metadata": {},
   "source": [
    "# Import Section"
   ]
  },
  {
   "cell_type": "code",
   "execution_count": null,
   "metadata": {},
   "outputs": [],
   "source": [
    "# from audapter.driver.filter_driver import FilterDriver\n",
    "from pyroomacoustics import adaptive"
   ]
  },
  {
   "cell_type": "code",
   "execution_count": null,
   "metadata": {},
   "outputs": [],
   "source": [
    "import numpy as np\n",
    "from scipy.fft import rfft, irfft, rfftfreq, fft, ifft, fftfreq\n",
    "from matplotlib import pyplot as plt\n",
    "from mpl_toolkits.mplot3d import Axes3D\n",
    "from nptyping import Array"
   ]
  },
  {
   "cell_type": "markdown",
   "metadata": {},
   "source": [
    "## import Virtual Error Source"
   ]
  },
  {
   "cell_type": "code",
   "execution_count": null,
   "metadata": {},
   "outputs": [],
   "source": [
    "from pysndfx import AudioEffectsChain\n",
    "\n",
    "SOUND_FIELD = lambda x: 2. * x\n",
    "# AEC = AudioEffectsChain()\n",
    "# SOUND_FIELD = AEC.overdrive()"
   ]
  },
  {
   "cell_type": "markdown",
   "metadata": {},
   "source": [
    "## import Warning Controller"
   ]
  },
  {
   "cell_type": "code",
   "execution_count": null,
   "metadata": {},
   "outputs": [],
   "source": [
    "from warnings import simplefilter\n",
    "simplefilter('ignore')"
   ]
  },
  {
   "cell_type": "markdown",
   "metadata": {},
   "source": [
    "# Define Global Variables"
   ]
  },
  {
   "cell_type": "code",
   "execution_count": null,
   "metadata": {},
   "outputs": [],
   "source": [
    "# Period\n",
    "T_msec = 100\n",
    "\n",
    "# Sample rate\n",
    "fs = 44100\n",
    "nyquist = fs//2\n",
    "\n",
    "# Data size\n",
    "N = fs * T_msec // 1000\n",
    "\n",
    "# Filter Length\n",
    "w_len = 10\n",
    "\n",
    "# Maximum Amplifier\n",
    "A_max = 256\n",
    "\n",
    "# Amplifier\n",
    "A = .8 * A_max\n",
    "\n",
    "# Frequency of sound\n",
    "w_sound = 440.\n",
    "\n",
    "# Time\n",
    "END_OF_TIME = 20\n",
    "t = np.linspace(0, END_OF_TIME, fs*END_OF_TIME, dtype=np.float64)"
   ]
  },
  {
   "cell_type": "markdown",
   "metadata": {},
   "source": [
    "## Make Arrays for Caching"
   ]
  },
  {
   "cell_type": "code",
   "execution_count": null,
   "metadata": {},
   "outputs": [],
   "source": [
    "x_cache = A * (np.sin(w_sound * (2 * np.pi * t)) + np.sin(w_sound * np.sqrt(2.) * (2 * np.pi * t ))) / 2.\n",
    "\n",
    "d_cache = x_cache[:]\n",
    "\n",
    "y_cache = np.zeros_like(t)\n",
    "\n",
    "f_cache = np.zeros_like(y_cache)\n",
    "\n",
    "w_cache = np.zeros((END_OF_TIME*1000//T_msec, w_len), dtype=np.float64)"
   ]
  },
  {
   "cell_type": "markdown",
   "metadata": {},
   "source": [
    "# Main Section"
   ]
  },
  {
   "cell_type": "markdown",
   "metadata": {},
   "source": [
    "## DOMAIN: FREQ"
   ]
  },
  {
   "cell_type": "code",
   "execution_count": null,
   "metadata": {},
   "outputs": [],
   "source": [
    "from pyroomacoustics.transform import STFT, synthesis\n",
    "from pyroomacoustics import windows"
   ]
  },
  {
   "cell_type": "code",
   "execution_count": null,
   "metadata": {},
   "outputs": [],
   "source": [
    "# blocksize = fs//2\n",
    "# hop_len = blocksize//2\n",
    "\n",
    "# stft_d = STFT(N=blocksize, hop=hop_len, analysis_window=windows.hann(blocksize))\n",
    "# stft_f = STFT(N=blocksize, hop=hop_len, analysis_window=windows.hann(blocksize))\n",
    "\n",
    "# driver = adaptive.SubbandLMS(num_taps=w_len, num_bands=hop_len+1, nlms=True)"
   ]
  },
  {
   "cell_type": "code",
   "execution_count": null,
   "metadata": {},
   "outputs": [],
   "source": [
    "# driver.X.shape"
   ]
  },
  {
   "cell_type": "code",
   "execution_count": null,
   "metadata": {},
   "outputs": [],
   "source": [
    "# # in First step\n",
    "# y_now = x_cache[:hop_len]\n",
    "# y_cache[:hop_len] = y_now\n",
    "# f_cache[:hop_len] = SOUND_FIELD(y_now)"
   ]
  },
  {
   "cell_type": "code",
   "execution_count": null,
   "metadata": {},
   "outputs": [],
   "source": [
    "# def analyze_input_recursively(block, stft_obj):\n",
    "#     stft_obj.analysis(block)\n",
    "#     return stft_obj.X[:]\n",
    "\n",
    "# for i in range(hop_len, t.size-hop_len, hop_len):\n",
    "#     d_block = d_cache[i-hop_len:i]\n",
    "#     f_block = f_cache[i-hop_len:i]\n",
    "    \n",
    "#     stft_d.analysis(d_block)\n",
    "#     stft_f.analysis(f_block)\n",
    "    \n",
    "#     driver.update(stft_d.X, stft_f.X)\n",
    "    \n",
    "#     X_in = np.zeros_like(driver.X)\n",
    "#     x_in = np.array([x_cache[i-n:i-n+hop_len] for n in range(w_len)])\n",
    "#     X_in = np.array([analyze_input_recursively(x_, stft_d) for x_ in x_in])\n",
    "\n",
    "#     Y_now = np.diag(np.dot(driver.W.conj().T, X_in))\n",
    "#     y_now = stft_f.synthesis(Y_now)\n",
    "#     f_now = SOUND_FIELD(y_now)\n",
    "    \n",
    "#     # Caching\n",
    "#     y_cache[i : i+y_now.size] = y_now[:]\n",
    "#     f_cache[i : i+f_now.size] = f_now[:]"
   ]
  },
  {
   "cell_type": "code",
   "execution_count": null,
   "metadata": {},
   "outputs": [],
   "source": [
    "# # splitting rate\n",
    "# split_num = 100\n",
    "\n",
    "# # STEP_SIZE = 1[sec]\n",
    "# # FRAGMENT_SIZE\n",
    "# N = fs\n",
    "\n",
    "# # Frequency in freq. domain\n",
    "# omega = rfftfreq(N, d=1./fs)\n",
    "\n",
    "# # Filter\n",
    "# DRIVERS = [FilterDriver(shape=w_len) for _ in range(omega.size//split_num+1)]\n",
    "\n",
    "# # Make array for caching FILTER_WEIGHTS\n",
    "# W_CACHE = np.zeros((END_OF_TIME, omega.size//split_num+1, w_len), dtype=np.float64)\n",
    "\n",
    "# for i in range(1, END_OF_TIME):\n",
    "#     ## START_OF_THREAD ##\n",
    "\n",
    "#     # Desired signal IN PREV\n",
    "#     d = np.array([d_cache[(i-1)*N + n*split_num : (i-1)*N + (n+1)*split_num] for n in range(N//split_num)])\n",
    "#     if i == 1:\n",
    "#         print(d.shape)\n",
    "\n",
    "#     # Make input-array from 'f'\n",
    "#     f = np.array([f_cache[(i-1)*N + n*split_num : (i-1)*N + (n+1)*split_num] for n in range(N//split_num)])\n",
    "#     if i == 1:\n",
    "#         print(f.shape)\n",
    "\n",
    "#     # FFT\n",
    "#     D = np.abs(rfft(d, axis=0)) / N/split_num\n",
    "#     F = rfft(f, axis=0) / N/split_num\n",
    "#     if i == 1:\n",
    "#         print(D.shape)\n",
    "\n",
    "#     # Make input-array from 'F'\n",
    "#     F_IN = np.array([F[:, n : n+w_len] for n in range(split_num - w_len)])[::-1]\n",
    "#     if i == 1:\n",
    "#         print(F_IN.shape)\n",
    "\n",
    "#     # Filter weight matrix(IN FREQ)\n",
    "#     W_NEW = np.array([driver.tune(desired=D[w, -(split_num-w_len):], data_in=F_IN[:, w]) for w, driver in enumerate(DRIVERS)])\n",
    "#     if i == 1:\n",
    "#         print(W_NEW.shape)\n",
    "\n",
    "#     # Caching\n",
    "#     W_CACHE[i] = W_NEW[:]\n",
    "\n",
    "\n",
    "#     ## START_OF_THREAD ##\n",
    "\n",
    "#     # Input signal FOR NOW\n",
    "#     x = np.array([x_cache[i*N + n*split_num : i*N + (n+1)*split_num] for n in range(N//split_num)])\n",
    "\n",
    "#     # FFT\n",
    "#     X = rfft(x, axis=0) / N/split_num\n",
    "#     # Make input-array from 'X'\n",
    "#     X_IN = np.array([X[:, n : n+w_len] for n in range(split_num - w_len)])[::-1]\n",
    "\n",
    "#     # Get filter IN PREV\n",
    "#     W_OLD = W_CACHE[i-1]\n",
    "\n",
    "#     # Output(FOR sound-field, FOR NOW)\n",
    "#     Y_NOW = np.array([np.dot(W_OLD[w], X_IN[:, w].T) for w in range(X_IN.shape[1])])\n",
    "#     if i == 1:\n",
    "#         print(Y_NOW.shape)\n",
    "    \n",
    "#     y_now = irfft(Y_NOW, axis=0).reshape(-1)\n",
    "#     if i == 1:\n",
    "#         print(y_now.shape)\n",
    "#     f_now = SOUND_FIELD(y_now[:]).astype(np.float64)\n",
    "#     # Caching\n",
    "#     y_cache[(i+1)*N - len(y_now) : (i+1)*N] = y_now[:]\n",
    "#     f_cache[(i+1)*N - len(f_now) : (i+1)*N] = f_now[:]"
   ]
  },
  {
   "cell_type": "markdown",
   "metadata": {},
   "source": [
    "# Plot Result"
   ]
  },
  {
   "cell_type": "code",
   "execution_count": null,
   "metadata": {},
   "outputs": [],
   "source": [
    "tail = t.size//1000"
   ]
  },
  {
   "cell_type": "code",
   "execution_count": null,
   "metadata": {},
   "outputs": [],
   "source": [
    "plt.plot(t[-tail:], x_cache[-tail:], label=\"x: Input\")\n",
    "plt.xlabel(\"Time[sec]\")\n",
    "plt.ylabel(\"Amplitude\")\n",
    "plt.ylim([-2.*A, 2.*A])\n",
    "plt.legend()\n",
    "plt.grid()\n",
    "plt.show()"
   ]
  },
  {
   "cell_type": "code",
   "execution_count": null,
   "metadata": {},
   "outputs": [],
   "source": [
    "plt.plot(t[-tail:], d_cache[-tail:], label=\"d: Desired\")\n",
    "plt.xlabel(\"Time[sec]\")\n",
    "plt.ylabel(\"Amplitude\")\n",
    "plt.ylim([-2.*A, 2.*A])\n",
    "plt.legend()\n",
    "plt.grid()\n",
    "plt.show()"
   ]
  },
  {
   "cell_type": "code",
   "execution_count": null,
   "metadata": {},
   "outputs": [],
   "source": [
    "# plt.plot(t[-tail:], y_cache[-tail:], label=\"y: Output for sound-field\")\n",
    "plt.plot(t, y_cache, label=\"y: Output for sound-field\")\n",
    "plt.xlabel(\"Time[sec]\")\n",
    "plt.ylabel(\"Amplitude\")\n",
    "# plt.ylim([-2.*A, 2.*A])\n",
    "plt.legend()\n",
    "plt.grid()\n",
    "plt.show()"
   ]
  },
  {
   "cell_type": "code",
   "execution_count": null,
   "metadata": {},
   "outputs": [],
   "source": [
    "plt.plot(t[-tail:], y_cache[-tail:], label=\"y: Output for sound-field\")\n",
    "plt.plot(t[-tail:], f_cache[-tail:], label=\"f: Output(rec by sound-field)\")\n",
    "plt.xlabel(\"Time[sec]\")\n",
    "plt.ylabel(\"Amplitude\")\n",
    "plt.ylim([-2.*A, 2.*A])\n",
    "plt.legend()\n",
    "plt.grid()\n",
    "plt.show()"
   ]
  },
  {
   "cell_type": "code",
   "execution_count": null,
   "metadata": {
    "slideshow": {
     "slide_type": "slide"
    }
   },
   "outputs": [],
   "source": [
    "plt.plot(20*np.log10(rfft(f_cache[-tail:])), label=\"F: Output for sound-field(in freq.)\")\n",
    "plt.plot(20*np.log10(rfft(x_cache[-tail:])), label=\"X: Input\")\n",
    "plt.xlabel(\"Frequency[Hz]\")\n",
    "plt.ylabel(\"Amplitude\")\n",
    "plt.xscale('log')\n",
    "plt.legend()\n",
    "plt.grid()\n",
    "plt.show()"
   ]
  }
 ],
 "metadata": {
  "kernelspec": {
   "display_name": "audapter",
   "language": "python",
   "name": "audapter"
  },
  "language_info": {
   "name": ""
  }
 },
 "nbformat": 4,
 "nbformat_minor": 4
}
